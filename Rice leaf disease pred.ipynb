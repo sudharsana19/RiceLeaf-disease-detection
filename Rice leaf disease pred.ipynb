{
 "cells": [
  {
   "cell_type": "markdown",
   "metadata": {},
   "source": [
    "# RiceLeaf disease detection\n"
   ]
  },
  {
   "cell_type": "markdown",
   "metadata": {},
   "source": [
    "## Problem Statement\n",
    "\n",
    "Task 1:-Prepare a complete data analysis report on the given data.\n",
    "\n",
    "Task 2:-Create a model which can classify the three major attacking diseases of\n",
    "rice plants like leaf blast, bacterial blight and brown spot.\n",
    "\n",
    "Task3:- Analyze various techniques like Data Augmentation, etc and create a\n",
    "report on that."
   ]
  },
  {
   "cell_type": "markdown",
   "metadata": {},
   "source": [
    "### Import all the necessary libraries"
   ]
  },
  {
   "cell_type": "code",
   "execution_count": 2,
   "metadata": {
    "executionInfo": {
     "elapsed": 3972,
     "status": "ok",
     "timestamp": 1725079256937,
     "user": {
      "displayName": "VK Venkat",
      "userId": "15886574309274539929"
     },
     "user_tz": -330
    },
    "id": "ysZt3GnHNFdY"
   },
   "outputs": [],
   "source": [
    "import tensorflow as tf\n",
    "from tensorflow.keras import layers, models\n",
    "import matplotlib.pyplot as plt\n",
    "\n"
   ]
  },
  {
   "cell_type": "markdown",
   "metadata": {},
   "source": [
    "##### UnZipping the data from stored in zip format"
   ]
  },
  {
   "cell_type": "code",
   "execution_count": 8,
   "metadata": {
    "colab": {
     "base_uri": "https://localhost:8080/"
    },
    "executionInfo": {
     "elapsed": 839,
     "status": "ok",
     "timestamp": 1725079363053,
     "user": {
      "displayName": "VK Venkat",
      "userId": "15886574309274539929"
     },
     "user_tz": -330
    },
    "id": "X_1Ivd4li21v",
    "outputId": "4a0c3711-7dac-4ee5-fb0b-8f3256a8019a"
   },
   "outputs": [
    {
     "name": "stdout",
     "output_type": "stream",
     "text": [
      "Archive:  /content/data_rld_zip.zip\n",
      "   creating: data_rld/\n",
      "   creating: data_rld/Bacterial leaf blight/\n",
      "  inflating: data_rld/Bacterial leaf blight/DSC_0365.JPG  \n",
      "  inflating: data_rld/Bacterial leaf blight/DSC_0366.jpg  \n",
      "  inflating: data_rld/Bacterial leaf blight/DSC_0367.JPG  \n",
      "  inflating: data_rld/Bacterial leaf blight/DSC_0370.jpg  \n",
      "  inflating: data_rld/Bacterial leaf blight/DSC_0372.JPG  \n",
      "  inflating: data_rld/Bacterial leaf blight/DSC_0373.JPG  \n",
      "  inflating: data_rld/Bacterial leaf blight/DSC_0374.JPG  \n",
      "  inflating: data_rld/Bacterial leaf blight/DSC_0375.JPG  \n",
      "  inflating: data_rld/Bacterial leaf blight/DSC_0376.JPG  \n",
      "  inflating: data_rld/Bacterial leaf blight/DSC_0377.JPG  \n",
      "  inflating: data_rld/Bacterial leaf blight/DSC_0378.JPG  \n",
      "  inflating: data_rld/Bacterial leaf blight/DSC_0379.JPG  \n",
      "  inflating: data_rld/Bacterial leaf blight/DSC_0380.JPG  \n",
      "  inflating: data_rld/Bacterial leaf blight/DSC_0381.JPG  \n",
      "  inflating: data_rld/Bacterial leaf blight/DSC_0382.JPG  \n",
      "  inflating: data_rld/Bacterial leaf blight/DSC_0383.JPG  \n",
      "  inflating: data_rld/Bacterial leaf blight/DSC_0384.JPG  \n",
      "  inflating: data_rld/Bacterial leaf blight/DSC_0385.jpg  \n",
      "  inflating: data_rld/Bacterial leaf blight/DSC_0386.JPG  \n",
      "  inflating: data_rld/Bacterial leaf blight/DSC_0388.JPG  \n",
      "  inflating: data_rld/Bacterial leaf blight/DSC_0389.JPG  \n",
      "  inflating: data_rld/Bacterial leaf blight/DSC_0390.JPG  \n",
      "  inflating: data_rld/Bacterial leaf blight/DSC_0392.JPG  \n",
      "  inflating: data_rld/Bacterial leaf blight/DSC_0393.JPG  \n",
      "  inflating: data_rld/Bacterial leaf blight/DSC_0395.JPG  \n",
      "  inflating: data_rld/Bacterial leaf blight/DSC_0396.JPG  \n",
      "  inflating: data_rld/Bacterial leaf blight/DSC_0397.JPG  \n",
      "  inflating: data_rld/Bacterial leaf blight/DSC_0398.JPG  \n",
      "  inflating: data_rld/Bacterial leaf blight/DSC_0399.JPG  \n",
      "  inflating: data_rld/Bacterial leaf blight/DSC_0400.JPG  \n",
      "  inflating: data_rld/Bacterial leaf blight/DSC_0401.JPG  \n",
      "  inflating: data_rld/Bacterial leaf blight/DSC_0402.JPG  \n",
      "  inflating: data_rld/Bacterial leaf blight/DSC_0403.JPG  \n",
      "  inflating: data_rld/Bacterial leaf blight/DSC_0404.JPG  \n",
      "  inflating: data_rld/Bacterial leaf blight/DSC_0405.JPG  \n",
      "  inflating: data_rld/Bacterial leaf blight/DSC_0406.JPG  \n",
      "  inflating: data_rld/Bacterial leaf blight/DSC_0700.jpg  \n",
      "  inflating: data_rld/Bacterial leaf blight/DSC_0701.jpg  \n",
      "  inflating: data_rld/Bacterial leaf blight/DSC_0702.jpg  \n",
      "  inflating: data_rld/Bacterial leaf blight/DSC_0703.JPG  \n",
      "   creating: data_rld/Brown spot/\n",
      "  inflating: data_rld/Brown spot/DSC_0100.jpg  \n",
      "  inflating: data_rld/Brown spot/DSC_0101.jpg  \n",
      "  inflating: data_rld/Brown spot/DSC_0104.jpg  \n",
      "  inflating: data_rld/Brown spot/DSC_0105.jpg  \n",
      "  inflating: data_rld/Brown spot/DSC_0106.jpg  \n",
      "  inflating: data_rld/Brown spot/DSC_0107.jpg  \n",
      "  inflating: data_rld/Brown spot/DSC_0108.jpg  \n",
      "  inflating: data_rld/Brown spot/DSC_0109.jpg  \n",
      "  inflating: data_rld/Brown spot/DSC_0110.jpg  \n",
      "  inflating: data_rld/Brown spot/DSC_0111.jpg  \n",
      "  inflating: data_rld/Brown spot/DSC_0112.jpg  \n",
      "  inflating: data_rld/Brown spot/DSC_0113.jpg  \n",
      "  inflating: data_rld/Brown spot/DSC_0114.jpg  \n",
      "  inflating: data_rld/Brown spot/DSC_0115.jpg  \n",
      "  inflating: data_rld/Brown spot/DSC_0116.jpg  \n",
      "  inflating: data_rld/Brown spot/DSC_0117.jpg  \n",
      "  inflating: data_rld/Brown spot/DSC_0118.jpg  \n",
      "  inflating: data_rld/Brown spot/DSC_0119.jpg  \n",
      "  inflating: data_rld/Brown spot/DSC_0121.jpg  \n",
      "  inflating: data_rld/Brown spot/DSC_0292.JPG  \n",
      "  inflating: data_rld/Brown spot/DSC_0295.JPG  \n",
      "  inflating: data_rld/Brown spot/DSC_0296.jpg  \n",
      "  inflating: data_rld/Brown spot/DSC_0299.JPG  \n",
      "  inflating: data_rld/Brown spot/DSC_0300.JPG  \n",
      "  inflating: data_rld/Brown spot/DSC_0301.JPG  \n",
      "  inflating: data_rld/Brown spot/DSC_0302.JPG  \n",
      "  inflating: data_rld/Brown spot/DSC_0303.JPG  \n",
      "  inflating: data_rld/Brown spot/DSC_0304.JPG  \n",
      "  inflating: data_rld/Brown spot/DSC_0305.JPG  \n",
      "  inflating: data_rld/Brown spot/DSC_0306.JPG  \n",
      "  inflating: data_rld/Brown spot/DSC_0307.JPG  \n",
      "  inflating: data_rld/Brown spot/DSC_0323.JPG  \n",
      "  inflating: data_rld/Brown spot/DSC_0324.JPG  \n",
      "  inflating: data_rld/Brown spot/DSC_0325.JPG  \n",
      "  inflating: data_rld/Brown spot/DSC_0329.jpg  \n",
      "  inflating: data_rld/Brown spot/DSC_0332.JPG  \n",
      "  inflating: data_rld/Brown spot/DSC_0333.JPG  \n",
      "  inflating: data_rld/Brown spot/DSC_0337.JPG  \n",
      "  inflating: data_rld/Brown spot/DSC_0391.jpg  \n",
      "  inflating: data_rld/Brown spot/DSC_0394.jpg  \n",
      "   creating: data_rld/Leaf smut/\n",
      "  inflating: data_rld/Leaf smut/DSC_0293.JPG  \n",
      "  inflating: data_rld/Leaf smut/DSC_0308.JPG  \n",
      "  inflating: data_rld/Leaf smut/DSC_0309.JPG  \n",
      "  inflating: data_rld/Leaf smut/DSC_0310.JPG  \n",
      "  inflating: data_rld/Leaf smut/DSC_0312.JPG  \n",
      "  inflating: data_rld/Leaf smut/DSC_0313.JPG  \n",
      "  inflating: data_rld/Leaf smut/DSC_0314.JPG  \n",
      "  inflating: data_rld/Leaf smut/DSC_0315.jpg  \n",
      "  inflating: data_rld/Leaf smut/DSC_0316.JPG  \n",
      "  inflating: data_rld/Leaf smut/DSC_0317.JPG  \n",
      "  inflating: data_rld/Leaf smut/DSC_0318.JPG  \n",
      "  inflating: data_rld/Leaf smut/DSC_0319.jpg  \n",
      "  inflating: data_rld/Leaf smut/DSC_0320.JPG  \n",
      "  inflating: data_rld/Leaf smut/DSC_0321.JPG  \n",
      "  inflating: data_rld/Leaf smut/DSC_0322.jpg  \n",
      "  inflating: data_rld/Leaf smut/DSC_0327.JPG  \n",
      "  inflating: data_rld/Leaf smut/DSC_0328.jpg  \n",
      "  inflating: data_rld/Leaf smut/DSC_0330.jpg  \n",
      "  inflating: data_rld/Leaf smut/DSC_0331.JPG  \n",
      "  inflating: data_rld/Leaf smut/DSC_0335.JPG  \n",
      "  inflating: data_rld/Leaf smut/DSC_0336.jpg  \n",
      "  inflating: data_rld/Leaf smut/DSC_0338.JPG  \n",
      "  inflating: data_rld/Leaf smut/DSC_0339.jpg  \n",
      "  inflating: data_rld/Leaf smut/DSC_0500.jpg  \n",
      "  inflating: data_rld/Leaf smut/DSC_0501.jpg  \n",
      "  inflating: data_rld/Leaf smut/DSC_0502.jpg  \n",
      "  inflating: data_rld/Leaf smut/DSC_0503.jpg  \n",
      "  inflating: data_rld/Leaf smut/DSC_0504.jpg  \n",
      "  inflating: data_rld/Leaf smut/DSC_0505.jpg  \n",
      "  inflating: data_rld/Leaf smut/DSC_0506.jpg  \n",
      "  inflating: data_rld/Leaf smut/DSC_0507.jpg  \n",
      "  inflating: data_rld/Leaf smut/DSC_0509.jpg  \n",
      "  inflating: data_rld/Leaf smut/DSC_0510.jpg  \n",
      "  inflating: data_rld/Leaf smut/DSC_0511.jpg  \n",
      "  inflating: data_rld/Leaf smut/DSC_0512.jpg  \n",
      "  inflating: data_rld/Leaf smut/DSC_0513.jpg  \n",
      "  inflating: data_rld/Leaf smut/DSC_0514.jpg  \n",
      "  inflating: data_rld/Leaf smut/DSC_0515.jpg  \n",
      "  inflating: data_rld/Leaf smut/DSC_0516.jpg  \n"
     ]
    }
   ],
   "source": [
    "! unzip /content/data_rld_zip.zip"
   ]
  },
  {
   "cell_type": "code",
   "execution_count": 9,
   "metadata": {
    "colab": {
     "base_uri": "https://localhost:8080/"
    },
    "executionInfo": {
     "elapsed": 7043,
     "status": "ok",
     "timestamp": 1725079390187,
     "user": {
      "displayName": "VK Venkat",
      "userId": "15886574309274539929"
     },
     "user_tz": -330
    },
    "id": "3FNLcZ7uL85s",
    "outputId": "86fcbc6c-f2d9-426d-b91c-9fcc2066f177"
   },
   "outputs": [
    {
     "name": "stdout",
     "output_type": "stream",
     "text": [
      "Found 119 files belonging to 3 classes.\n"
     ]
    }
   ],
   "source": [
    "dataset = tf.keras.preprocessing.image_dataset_from_directory(\n",
    "    r'/content/data_rld',\n",
    "    shuffle=True,\n",
    "    image_size = (256, 256),\n",
    "    batch_size = 32\n",
    ")\n"
   ]
  },
  {
   "cell_type": "code",
   "execution_count": 10,
   "metadata": {
    "colab": {
     "base_uri": "https://localhost:8080/"
    },
    "executionInfo": {
     "elapsed": 472,
     "status": "ok",
     "timestamp": 1725079402278,
     "user": {
      "displayName": "VK Venkat",
      "userId": "15886574309274539929"
     },
     "user_tz": -330
    },
    "id": "_MiJhhYERM3Q",
    "outputId": "75625214-f839-4f3f-e67c-83fdbe649843"
   },
   "outputs": [
    {
     "data": {
      "text/plain": [
       "['Bacterial leaf blight', 'Brown spot', 'Leaf smut']"
      ]
     },
     "execution_count": 10,
     "metadata": {},
     "output_type": "execute_result"
    }
   ],
   "source": [
    "class_names = dataset.class_names\n",
    "\n",
    "class_names"
   ]
  },
  {
   "cell_type": "code",
   "execution_count": 13,
   "metadata": {
    "colab": {
     "base_uri": "https://localhost:8080/"
    },
    "executionInfo": {
     "elapsed": 411,
     "status": "ok",
     "timestamp": 1725079479079,
     "user": {
      "displayName": "VK Venkat",
      "userId": "15886574309274539929"
     },
     "user_tz": -330
    },
    "id": "XWSA9lkuRPaS",
    "outputId": "6a293495-1dba-4947-991e-8bdd6e578680"
   },
   "outputs": [
    {
     "name": "stdout",
     "output_type": "stream",
     "text": [
      "No.of Batches: 4\n"
     ]
    }
   ],
   "source": [
    "print(\"No.of Batches:\",len(dataset))   # 119/32 = 4"
   ]
  },
  {
   "cell_type": "code",
   "execution_count": 14,
   "metadata": {
    "colab": {
     "base_uri": "https://localhost:8080/"
    },
    "executionInfo": {
     "elapsed": 400,
     "status": "ok",
     "timestamp": 1725079484643,
     "user": {
      "displayName": "VK Venkat",
      "userId": "15886574309274539929"
     },
     "user_tz": -330
    },
    "id": "CwmJbL8SSJYb",
    "outputId": "43bae34e-6a33-4684-dac0-f5183beb83cb"
   },
   "outputs": [
    {
     "name": "stdout",
     "output_type": "stream",
     "text": [
      "(32, 256, 256, 3)\n",
      "[1 0 0 2 1 1 1 1 0 2 1 0 2 1 2 1 1 2 0 0 1 1 0 1 1 1 0 1 2 2 0 0]\n"
     ]
    }
   ],
   "source": [
    "\n",
    "for image_batch, labels_batch in dataset.take(1): # Retrieves the first batch from the dataset\n",
    "  print(image_batch.shape)  # Contains the images in the batch\n",
    "  print(labels_batch.numpy()) # Contains the labels corresponding to those images\n",
    "\n",
    "# 32: The number of images in this batch.\n",
    "# 256x256: The dimensions of each image (height and width).\n",
    "# 3: The number of color channels (RGB) in each image.\n"
   ]
  },
  {
   "cell_type": "code",
   "execution_count": 15,
   "metadata": {
    "colab": {
     "base_uri": "https://localhost:8080/",
     "height": 1000,
     "output_embedded_package_id": "15A81719NhdSQnB8tevMcS0J7_SojHaQj"
    },
    "executionInfo": {
     "elapsed": 4308,
     "status": "ok",
     "timestamp": 1725079500402,
     "user": {
      "displayName": "VK Venkat",
      "userId": "15886574309274539929"
     },
     "user_tz": -330
    },
    "id": "PvON8_QASKo1",
    "outputId": "d385618e-fcb8-4f98-ed53-891a5d484469"
   },
   "outputs": [
    {
     "data": {
      "text/plain": [
       "Output hidden; open in https://colab.research.google.com to view."
      ]
     },
     "metadata": {},
     "output_type": "display_data"
    }
   ],
   "source": [
    "# Printing Images\n",
    "plt.figure(figsize=(20,20))\n",
    "for image_batch, labels_batch in dataset.take(1):\n",
    "  for i in range(12):\n",
    "    plt.subplot(3, 4, i + 1)\n",
    "    plt.imshow(image_batch[i].numpy().astype(\"uint8\")) # Ensures the pixel values are in the 0-255 range and formatted as 8-bit unsigned integers, which is a standard format for image data.\n",
    "    plt.title(class_names[labels_batch[i]])\n",
    "    plt.axis('off')"
   ]
  },
  {
   "cell_type": "code",
   "execution_count": null,
   "metadata": {
    "id": "boygTU_ewguu"
   },
   "outputs": [],
   "source": [
    "# Train_test_split\n",
    "\n",
    "80% for training\n",
    "20% for testing, 10% for validation\n",
    "\n",
    "\n",
    "\n",
    "# Total Dataset Splitting:\n",
    "# Training Set: 80% of the entire dataset\n",
    "# Validation Set: 10% of the entire Batch, our's is 32\n",
    "# Test Set: 10% of the entire Batch, our's is 32"
   ]
  },
  {
   "cell_type": "code",
   "execution_count": 20,
   "metadata": {
    "colab": {
     "base_uri": "https://localhost:8080/"
    },
    "executionInfo": {
     "elapsed": 394,
     "status": "ok",
     "timestamp": 1725079629700,
     "user": {
      "displayName": "VK Venkat",
      "userId": "15886574309274539929"
     },
     "user_tz": -330
    },
    "id": "ns1MldxTlF3W",
    "outputId": "e39bcc75-9a0b-4f01-c4c1-7eee4cdce0ba"
   },
   "outputs": [
    {
     "data": {
      "text/plain": [
       "3"
      ]
     },
     "execution_count": 20,
     "metadata": {},
     "output_type": "execute_result"
    }
   ],
   "source": [
    "# Calculate the number of batches\n",
    "\n",
    "batch_size = 32\n",
    "dataset_size = 119  # Total number of images\n",
    "total_batches = dataset_size // batch_size\n",
    "total_batches\n",
    "\n",
    "\n"
   ]
  },
  {
   "cell_type": "markdown",
   "metadata": {},
   "source": [
    "#### MODEL BUILDING"
   ]
  },
  {
   "cell_type": "code",
   "execution_count": 21,
   "metadata": {
    "colab": {
     "base_uri": "https://localhost:8080/"
    },
    "executionInfo": {
     "elapsed": 461,
     "status": "ok",
     "timestamp": 1725079642000,
     "user": {
      "displayName": "VK Venkat",
      "userId": "15886574309274539929"
     },
     "user_tz": -330
    },
    "id": "-lhY8MTbniq4",
    "outputId": "6326d7b6-c14b-4a07-88e2-71beefde3a81"
   },
   "outputs": [
    {
     "name": "stdout",
     "output_type": "stream",
     "text": [
      "Found 119 files belonging to 3 classes.\n",
      "Using 96 files for training.\n"
     ]
    }
   ],
   "source": [
    "# Create the train and validation datasets (80% train)\n",
    "\n",
    "\n",
    "train_dataset = tf.keras.preprocessing.image_dataset_from_directory(\n",
    "    r'/content/data_rld',\n",
    "    validation_split=0.2,  # Reserve 20% for validation+testing\n",
    "    subset=\"training\",\n",
    "    seed=123,\n",
    "    image_size=(256,256),\n",
    "    batch_size=32\n",
    ")"
   ]
  },
  {
   "cell_type": "code",
   "execution_count": 22,
   "metadata": {
    "colab": {
     "base_uri": "https://localhost:8080/"
    },
    "executionInfo": {
     "elapsed": 412,
     "status": "ok",
     "timestamp": 1725079651439,
     "user": {
      "displayName": "VK Venkat",
      "userId": "15886574309274539929"
     },
     "user_tz": -330
    },
    "id": "HHMEtjOJzKaQ",
    "outputId": "dbf20310-e9d3-4247-d81d-5dce480b2e0c"
   },
   "outputs": [
    {
     "name": "stdout",
     "output_type": "stream",
     "text": [
      "Found 119 files belonging to 3 classes.\n",
      "Using 59 files for validation.\n"
     ]
    }
   ],
   "source": [
    "# Step 2: Further split the 20% into 10% validation and 10% testing\n",
    "\n",
    "validation_dataset = tf.keras.preprocessing.image_dataset_from_directory(\n",
    "    r'//content/data_rld',\n",
    "    validation_split=0.5,  # 50% of the 20% = 10% of the total dataset for validation\n",
    "    subset=\"validation\",\n",
    "    seed=123,\n",
    "    image_size=(256,256),\n",
    "    batch_size=32\n",
    ")"
   ]
  },
  {
   "cell_type": "code",
   "execution_count": 23,
   "metadata": {
    "colab": {
     "base_uri": "https://localhost:8080/"
    },
    "executionInfo": {
     "elapsed": 413,
     "status": "ok",
     "timestamp": 1725079655630,
     "user": {
      "displayName": "VK Venkat",
      "userId": "15886574309274539929"
     },
     "user_tz": -330
    },
    "id": "chl0BDoBzKdl",
    "outputId": "d61430d6-5460-489e-d575-ac25dc6eaab4"
   },
   "outputs": [
    {
     "name": "stdout",
     "output_type": "stream",
     "text": [
      "Found 119 files belonging to 3 classes.\n",
      "Using 59 files for validation.\n"
     ]
    }
   ],
   "source": [
    "test_dataset = tf.keras.preprocessing.image_dataset_from_directory(\n",
    "    r'/content/data_rld',\n",
    "    validation_split=0.5,  # The other 50% of the 20% = 10% of the total dataset for testing\n",
    "    subset=\"validation\",\n",
    "    seed=123,\n",
    "    image_size=(256,256),\n",
    "    batch_size=32\n",
    ")"
   ]
  },
  {
   "cell_type": "code",
   "execution_count": 24,
   "metadata": {
    "executionInfo": {
     "elapsed": 418,
     "status": "ok",
     "timestamp": 1725079677416,
     "user": {
      "displayName": "VK Venkat",
      "userId": "15886574309274539929"
     },
     "user_tz": -330
    },
    "id": "d5VWsosCukdY"
   },
   "outputs": [],
   "source": [
    "# Define image preprocessing\n",
    "resize_and_rescale = tf.keras.Sequential([\n",
    "    layers.Resizing(256, 256),\n",
    "    layers.Rescaling(1.0 / 255)\n",
    "])"
   ]
  },
  {
   "cell_type": "markdown",
   "metadata": {},
   "source": [
    "#### DATA AUGMENTATION"
   ]
  },
  {
   "cell_type": "code",
   "execution_count": 25,
   "metadata": {
    "executionInfo": {
     "elapsed": 414,
     "status": "ok",
     "timestamp": 1725079681200,
     "user": {
      "displayName": "VK Venkat",
      "userId": "15886574309274539929"
     },
     "user_tz": -330
    },
    "id": "xQJCP0PcHWSD"
   },
   "outputs": [],
   "source": [
    "# Data Augmentation\n",
    "\n",
    "data_augmentation = tf.keras.Sequential([\n",
    "    layers.RandomFlip(\"horizontal_and_vertical\"),\n",
    "    layers.RandomRotation(0.2)\n",
    "])"
   ]
  },
  {
   "cell_type": "code",
   "execution_count": null,
   "metadata": {
    "id": "4T3hdCNOtdQw"
   },
   "outputs": [],
   "source": [
    "#Layers:\n",
    "\n",
    " # 1.Convolutional Layer (Conv2D)\n",
    " # 2.Pooling Layer (MaxPooling2D)\n",
    " #3.Fully Connected (Dense) Layer\n",
    " #4.Output Layer"
   ]
  },
  {
   "cell_type": "markdown",
   "metadata": {},
   "source": [
    "#### MODEL"
   ]
  },
  {
   "cell_type": "code",
   "execution_count": 26,
   "metadata": {
    "executionInfo": {
     "elapsed": 504,
     "status": "ok",
     "timestamp": 1725079693508,
     "user": {
      "displayName": "VK Venkat",
      "userId": "15886574309274539929"
     },
     "user_tz": -330
    },
    "id": "p9Wwwpu1HYUa"
   },
   "outputs": [],
   "source": [
    "# Define the model\n",
    "\n",
    "model = models.Sequential([\n",
    "    # Convolutional layer with 32 filters, 3x3 kernel size, ReLU activation\n",
    "\n",
    "    layers.Conv2D(\n",
    "        filters=32,                   # Number of output filters\n",
    "        kernel_size=(3, 3),           # Size of the convolutional kernel\n",
    "        activation='relu',            # Activation function\n",
    "        input_shape=(256, 256, 3)     # Input shape (height, width, channels)\n",
    "    ),\n",
    "    # MaxPooling layer to reduce spatial dimensions\n",
    "    layers.MaxPooling2D(pool_size=(2, 2)),\n",
    "\n",
    "    # Add more Conv2D and MaxPooling layers as needed\n",
    "    layers.Conv2D(filters=64, kernel_size=(3, 3), activation='relu'),\n",
    "    layers.MaxPooling2D(pool_size=(2, 2)),\n",
    "\n",
    "        # Add more Conv2D and MaxPooling layers as needed\n",
    "    layers.Conv2D(filters=64, kernel_size=(3, 3), activation='relu'),\n",
    "    layers.MaxPooling2D(pool_size=(2, 2)),\n",
    "\n",
    "    # Flatten the output to feed into Dense layers\n",
    "    layers.Flatten(),\n",
    "\n",
    "    # Fully connected Dense layer\n",
    "    layers.Dense(64, activation='relu'),\n",
    "\n",
    "    # Output layer with 15 classes\n",
    "    layers.Dense(15, activation='softmax')   # Output layer with 15 neurons for classification\n",
    "\n",
    "])"
   ]
  },
  {
   "cell_type": "code",
   "execution_count": 27,
   "metadata": {
    "executionInfo": {
     "elapsed": 387,
     "status": "ok",
     "timestamp": 1725079705611,
     "user": {
      "displayName": "VK Venkat",
      "userId": "15886574309274539929"
     },
     "user_tz": -330
    },
    "id": "LUkYVzk_-17d"
   },
   "outputs": [],
   "source": [
    "# Compile the model\n",
    "model.compile(\n",
    "    optimizer='adam',                  # Optimizer\n",
    "    loss='sparse_categorical_crossentropy', # Loss function for classification\n",
    "    metrics=['accuracy']               # Metrics to evaluate the model\n",
    ")"
   ]
  },
  {
   "cell_type": "code",
   "execution_count": 28,
   "metadata": {
    "colab": {
     "base_uri": "https://localhost:8080/"
    },
    "executionInfo": {
     "elapsed": 427,
     "status": "ok",
     "timestamp": 1725079709475,
     "user": {
      "displayName": "VK Venkat",
      "userId": "15886574309274539929"
     },
     "user_tz": -330
    },
    "id": "Iymr33f8DGVr",
    "outputId": "0821f059-d04a-4917-f004-944c7fd05473"
   },
   "outputs": [
    {
     "name": "stdout",
     "output_type": "stream",
     "text": [
      "Model: \"sequential_2\"\n",
      "_________________________________________________________________\n",
      " Layer (type)                Output Shape              Param #   \n",
      "=================================================================\n",
      " conv2d (Conv2D)             (None, 254, 254, 32)      896       \n",
      "                                                                 \n",
      " max_pooling2d (MaxPooling2  (None, 127, 127, 32)      0         \n",
      " D)                                                              \n",
      "                                                                 \n",
      " conv2d_1 (Conv2D)           (None, 125, 125, 64)      18496     \n",
      "                                                                 \n",
      " max_pooling2d_1 (MaxPoolin  (None, 62, 62, 64)        0         \n",
      " g2D)                                                            \n",
      "                                                                 \n",
      " conv2d_2 (Conv2D)           (None, 60, 60, 64)        36928     \n",
      "                                                                 \n",
      " max_pooling2d_2 (MaxPoolin  (None, 30, 30, 64)        0         \n",
      " g2D)                                                            \n",
      "                                                                 \n",
      " flatten (Flatten)           (None, 57600)             0         \n",
      "                                                                 \n",
      " dense (Dense)               (None, 64)                3686464   \n",
      "                                                                 \n",
      " dense_1 (Dense)             (None, 15)                975       \n",
      "                                                                 \n",
      "=================================================================\n",
      "Total params: 3743759 (14.28 MB)\n",
      "Trainable params: 3743759 (14.28 MB)\n",
      "Non-trainable params: 0 (0.00 Byte)\n",
      "_________________________________________________________________\n"
     ]
    }
   ],
   "source": [
    "# Print model summary\n",
    "\n",
    "model.summary()"
   ]
  },
  {
   "cell_type": "code",
   "execution_count": 29,
   "metadata": {
    "colab": {
     "base_uri": "https://localhost:8080/"
    },
    "executionInfo": {
     "elapsed": 18562,
     "status": "ok",
     "timestamp": 1725079736328,
     "user": {
      "displayName": "VK Venkat",
      "userId": "15886574309274539929"
     },
     "user_tz": -330
    },
    "id": "-dhFSVSJTAnn",
    "outputId": "29e7482b-ad11-4b4b-f3b7-2b9e0aae2814"
   },
   "outputs": [
    {
     "name": "stdout",
     "output_type": "stream",
     "text": [
      "Epoch 1/10\n",
      "3/3 [==============================] - 3s 662ms/step - loss: 203.6475 - accuracy: 0.2708 - val_loss: 454.3470 - val_accuracy: 0.3051\n",
      "Epoch 2/10\n",
      "3/3 [==============================] - 2s 593ms/step - loss: 183.0246 - accuracy: 0.3750 - val_loss: 54.6597 - val_accuracy: 0.3729\n",
      "Epoch 3/10\n",
      "3/3 [==============================] - 2s 591ms/step - loss: 28.9395 - accuracy: 0.3438 - val_loss: 10.1041 - val_accuracy: 0.5085\n",
      "Epoch 4/10\n",
      "3/3 [==============================] - 2s 590ms/step - loss: 12.0674 - accuracy: 0.4792 - val_loss: 6.3100 - val_accuracy: 0.3729\n",
      "Epoch 5/10\n",
      "3/3 [==============================] - 2s 573ms/step - loss: 2.8419 - accuracy: 0.5417 - val_loss: 1.4648 - val_accuracy: 0.4576\n",
      "Epoch 6/10\n",
      "3/3 [==============================] - 2s 579ms/step - loss: 0.9775 - accuracy: 0.6146 - val_loss: 1.2130 - val_accuracy: 0.5593\n",
      "Epoch 7/10\n",
      "3/3 [==============================] - 2s 540ms/step - loss: 0.7997 - accuracy: 0.7292 - val_loss: 0.7904 - val_accuracy: 0.6780\n",
      "Epoch 8/10\n",
      "3/3 [==============================] - 2s 574ms/step - loss: 0.5006 - accuracy: 0.8229 - val_loss: 1.0062 - val_accuracy: 0.6271\n",
      "Epoch 9/10\n",
      "3/3 [==============================] - 2s 564ms/step - loss: 0.5285 - accuracy: 0.7292 - val_loss: 0.8120 - val_accuracy: 0.6949\n",
      "Epoch 10/10\n",
      "3/3 [==============================] - 2s 620ms/step - loss: 0.2512 - accuracy: 0.9375 - val_loss: 0.7772 - val_accuracy: 0.7966\n"
     ]
    }
   ],
   "source": [
    "# Training the Network\n",
    "\n",
    "history = model.fit(\n",
    "    train_dataset,\n",
    "    epochs=10,\n",
    "    batch_size=32,\n",
    "    validation_data=validation_dataset,\n",
    "    verbose=1\n",
    ")"
   ]
  },
  {
   "cell_type": "code",
   "execution_count": 30,
   "metadata": {
    "colab": {
     "base_uri": "https://localhost:8080/"
    },
    "executionInfo": {
     "elapsed": 417,
     "status": "ok",
     "timestamp": 1725079742455,
     "user": {
      "displayName": "VK Venkat",
      "userId": "15886574309274539929"
     },
     "user_tz": -330
    },
    "id": "T4neYmtBTArC",
    "outputId": "c7dcf60e-add2-4e3a-c8d0-e263c5a977c5"
   },
   "outputs": [
    {
     "name": "stdout",
     "output_type": "stream",
     "text": [
      "2/2 [==============================] - 0s 74ms/step - loss: 0.7772 - accuracy: 0.7966\n"
     ]
    },
    {
     "data": {
      "text/plain": [
       "[0.7771626114845276, 0.7966101765632629]"
      ]
     },
     "execution_count": 30,
     "metadata": {},
     "output_type": "execute_result"
    }
   ],
   "source": [
    "scores = model.evaluate(test_dataset)\n",
    "\n",
    "scores"
   ]
  },
  {
   "cell_type": "markdown",
   "metadata": {},
   "source": [
    "### Model Gave 79.66% Accuracy"
   ]
  },
  {
   "cell_type": "code",
   "execution_count": 31,
   "metadata": {
    "colab": {
     "base_uri": "https://localhost:8080/"
    },
    "executionInfo": {
     "elapsed": 508,
     "status": "ok",
     "timestamp": 1725079751467,
     "user": {
      "displayName": "VK Venkat",
      "userId": "15886574309274539929"
     },
     "user_tz": -330
    },
    "id": "nqy1iHM0HYbI",
    "outputId": "7de38d75-507a-4121-a485-2753b5f2b705"
   },
   "outputs": [
    {
     "data": {
      "text/plain": [
       "{'verbose': 1, 'epochs': 10, 'steps': 3}"
      ]
     },
     "execution_count": 31,
     "metadata": {},
     "output_type": "execute_result"
    }
   ],
   "source": [
    "history.params"
   ]
  },
  {
   "cell_type": "code",
   "execution_count": 32,
   "metadata": {
    "colab": {
     "base_uri": "https://localhost:8080/"
    },
    "executionInfo": {
     "elapsed": 475,
     "status": "ok",
     "timestamp": 1725079753922,
     "user": {
      "displayName": "VK Venkat",
      "userId": "15886574309274539929"
     },
     "user_tz": -330
    },
    "id": "1s38XTYKHYev",
    "outputId": "e5d51291-a07f-4b66-eb70-78a019c6a7f7"
   },
   "outputs": [
    {
     "data": {
      "text/plain": [
       "dict_keys(['loss', 'accuracy', 'val_loss', 'val_accuracy'])"
      ]
     },
     "execution_count": 32,
     "metadata": {},
     "output_type": "execute_result"
    }
   ],
   "source": [
    "history.history.keys()"
   ]
  },
  {
   "cell_type": "code",
   "execution_count": 33,
   "metadata": {
    "executionInfo": {
     "elapsed": 4,
     "status": "ok",
     "timestamp": 1725079755054,
     "user": {
      "displayName": "VK Venkat",
      "userId": "15886574309274539929"
     },
     "user_tz": -330
    },
    "id": "aIpNyMG9jL5F"
   },
   "outputs": [],
   "source": [
    "acc = history.history['accuracy']\n",
    "valid_acc = history.history['val_accuracy']\n",
    "\n",
    "loss = history.history['loss']\n",
    "valid_loss = history.history['val_loss']"
   ]
  },
  {
   "cell_type": "code",
   "execution_count": 34,
   "metadata": {
    "colab": {
     "base_uri": "https://localhost:8080/",
     "height": 485
    },
    "executionInfo": {
     "elapsed": 611,
     "status": "ok",
     "timestamp": 1725079757331,
     "user": {
      "displayName": "VK Venkat",
      "userId": "15886574309274539929"
     },
     "user_tz": -330
    },
    "id": "sn8kDUf6jL7U",
    "outputId": "44e5bd43-a3f1-485b-8948-8cc3cb0b6296"
   },
   "outputs": [
    {
     "data": {
      "text/plain": [
       "Text(0.5, 1.0, 'Training and Validation Accuracy')"
      ]
     },
     "execution_count": 34,
     "metadata": {},
     "output_type": "execute_result"
    },
    {
     "data": {
      "image/png": "[encoded data removed]",
      "text/plain": [
       "<Figure size 700x500 with 1 Axes>"
      ]
     },
     "metadata": {},
     "output_type": "display_data"
    }
   ],
   "source": [
    "EPOCHS = 10\n",
    "\n",
    "\n",
    "plt.figure(figsize=(7,5))\n",
    "plt.subplot(1,2,1)\n",
    "plt.plot(range(EPOCHS),acc,label='Training Accuracy')\n",
    "plt.plot(range(EPOCHS),valid_acc,label='Validation Accuracy')\n",
    "plt.legend(loc='lower right')\n",
    "plt.title('Training and Validation Accuracy')\n"
   ]
  },
  {
   "cell_type": "code",
   "execution_count": 35,
   "metadata": {
    "colab": {
     "base_uri": "https://localhost:8080/",
     "height": 452
    },
    "executionInfo": {
     "elapsed": 483,
     "status": "ok",
     "timestamp": 1725079765811,
     "user": {
      "displayName": "VK Venkat",
      "userId": "15886574309274539929"
     },
     "user_tz": -330
    },
    "id": "Pl9kHheYjL9k",
    "outputId": "8d135213-73fb-4c05-c4fe-39a705aa798e"
   },
   "outputs": [
    {
     "data": {
      "image/png": "[encoded data removed]",
      "text/plain": [
       "<Figure size 640x480 with 1 Axes>"
      ]
     },
     "metadata": {},
     "output_type": "display_data"
    }
   ],
   "source": [
    "plt.subplot(1,2,1)\n",
    "plt.plot(range(EPOCHS),loss,label='Training loss')\n",
    "plt.plot(range(EPOCHS),valid_loss,label='Validation loss')\n",
    "plt.legend(loc='lower right')\n",
    "plt.title('Training and Validation loss')\n",
    "plt.show()"
   ]
  },
  {
   "cell_type": "markdown",
   "metadata": {},
   "source": [
    "#### Saving The Model"
   ]
  },
  {
   "cell_type": "code",
   "execution_count": null,
   "metadata": {
    "colab": {
     "base_uri": "https://localhost:8080/"
    },
    "executionInfo": {
     "elapsed": 411,
     "status": "ok",
     "timestamp": 1725079769390,
     "user": {
      "displayName": "VK Venkat",
      "userId": "15886574309274539929"
     },
     "user_tz": -330
    },
    "id": "q-CQxv29jMBn",
    "outputId": "1618d4b9-036f-4c52-8d05-c2bed7a8864b"
   },
   "outputs": [],
   "source": [
    "model.save('cnn_model.h5')\n",
    "\n",
    "print(\"CNN model saved as cnn_model.pkl\")\n"
   ]
  }
 ],
 "metadata": {
  "accelerator": "TPU",
  "colab": {
   "gpuType": "V28",
   "provenance": []
  },
  "kernelspec": {
   "display_name": "Python 3 (ipykernel)",
   "language": "python",
   "name": "python3"
  },
  "language_info": {
   "codemirror_mode": {
    "name": "ipython",
    "version": 3
   },
   "file_extension": ".py",
   "mimetype": "text/x-python",
   "name": "python",
   "nbconvert_exporter": "python",
   "pygments_lexer": "ipython3",
   "version": "3.11.5"
  }
 },
 "nbformat": 4,
 "nbformat_minor": 1
}
